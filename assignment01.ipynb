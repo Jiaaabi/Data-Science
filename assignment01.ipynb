{
 "cells": [
  {
   "cell_type": "markdown",
   "id": "23a203ca",
   "metadata": {},
   "source": [
    "# Assignment #1"
   ]
  },
  {
   "cell_type": "markdown",
   "id": "700669c0",
   "metadata": {},
   "source": [
    "1. Make two list's one of clothing items and accesories such as shirts, shorts, jeans etc and another list of atleast five colours such as red, white etc.\n",
    "\n",
    "\n",
    "2. Write a nested loop printing out each clothing item and accessory in every colour with the string statment \n",
    "- 'item from list of clothing item' are of 'colour from list of colour'. \n",
    "- Example statment \"shirts are of white colour\", \"shirts are of red colour\""
   ]
  },
  {
   "cell_type": "markdown",
   "id": "f745fab0",
   "metadata": {},
   "source": [
    "# Solution "
   ]
  },
  {
   "cell_type": "code",
   "execution_count": 10,
   "id": "ab5918dd",
   "metadata": {},
   "outputs": [
    {
     "name": "stdout",
     "output_type": "stream",
     "text": [
      "skirts are of red colour\n",
      "skirts are of blue colour\n",
      "skirts are of white colour\n",
      "skirts are of yellow colour\n",
      "skirts are of green colour\n",
      "skirts are of pink colour\n",
      "jeans are of red colour\n",
      "jeans are of blue colour\n",
      "jeans are of white colour\n",
      "jeans are of yellow colour\n",
      "jeans are of green colour\n",
      "jeans are of pink colour\n",
      "coats are of red colour\n",
      "coats are of blue colour\n",
      "coats are of white colour\n",
      "coats are of yellow colour\n",
      "coats are of green colour\n",
      "coats are of pink colour\n",
      "scarves are of red colour\n",
      "scarves are of blue colour\n",
      "scarves are of white colour\n",
      "scarves are of yellow colour\n",
      "scarves are of green colour\n",
      "scarves are of pink colour\n",
      "blouse are of red colour\n",
      "blouse are of blue colour\n",
      "blouse are of white colour\n",
      "blouse are of yellow colour\n",
      "blouse are of green colour\n",
      "blouse are of pink colour\n",
      "shirts are of red colour\n",
      "shirts are of blue colour\n",
      "shirts are of white colour\n",
      "shirts are of yellow colour\n",
      "shirts are of green colour\n",
      "shirts are of pink colour\n"
     ]
    }
   ],
   "source": [
    "clothing = [\"skirts\",\"jeans\",\"coats\",\"scarves\",\"blouses\",\"shirts\"]\n",
    "colours = [\"red\",\"blue\",\"white\",\"yellow\",\"green\",\"pink\"]\n",
    "\n",
    "for x in clothing:\n",
    "    for y in colours:\n",
    "        print(x + \" are of \"+ y + \" colour\")"
   ]
  },
  {
   "cell_type": "code",
   "execution_count": null,
   "id": "945763e6",
   "metadata": {},
   "outputs": [],
   "source": []
  }
 ],
 "metadata": {
  "kernelspec": {
   "display_name": "Python 3 (ipykernel)",
   "language": "python",
   "name": "python3"
  },
  "language_info": {
   "codemirror_mode": {
    "name": "ipython",
    "version": 3
   },
   "file_extension": ".py",
   "mimetype": "text/x-python",
   "name": "python",
   "nbconvert_exporter": "python",
   "pygments_lexer": "ipython3",
   "version": "3.9.7"
  }
 },
 "nbformat": 4,
 "nbformat_minor": 5
}
